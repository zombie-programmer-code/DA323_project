{
 "cells": [
  {
   "cell_type": "code",
   "execution_count": 1,
   "id": "b01c284c",
   "metadata": {
    "execution": {
     "iopub.execute_input": "2025-05-06T10:13:58.164883Z",
     "iopub.status.busy": "2025-05-06T10:13:58.164658Z",
     "iopub.status.idle": "2025-05-06T10:14:01.557770Z",
     "shell.execute_reply": "2025-05-06T10:14:01.557188Z"
    },
    "papermill": {
     "duration": 3.398551,
     "end_time": "2025-05-06T10:14:01.559076",
     "exception": false,
     "start_time": "2025-05-06T10:13:58.160525",
     "status": "completed"
    },
    "tags": []
   },
   "outputs": [],
   "source": [
    "import torch\n",
    "import torch.nn as nn\n",
    "import torch.nn.functional as F\n"
   ]
  },
  {
   "cell_type": "markdown",
   "id": "e7f8343e",
   "metadata": {
    "papermill": {
     "duration": 0.002319,
     "end_time": "2025-05-06T10:14:01.564451",
     "exception": false,
     "start_time": "2025-05-06T10:14:01.562132",
     "status": "completed"
    },
    "tags": []
   },
   "source": [
    "### Image Compression: The encoder downsamples the input image using convolutional layers, producing a low-resolution latent feature map z_e.\n",
    "\n",
    "### Codebook Quantization: Each latent vector is matched to the nearest entry in a learned codebook, converting continuous features into discrete indices (tokens).\n",
    "\n",
    "### Discrete Representation: These discrete indices represent compressed versions of the original image, making them ideal for use in transformer-based models.\n",
    "\n",
    "### Straight-Through Estimator: Gradients are passed through the encoder as if quantization didn’t happen, enabling end-to-end training despite the discrete bottleneck.\n",
    "\n",
    "### Reconstruction: The decoder upsamples the quantized latent features back into full-resolution images using transposed convolutions.\n",
    "\n",
    "### End Goal: This discrete bottleneck allows the model to tokenize images, making them compatible with language-modeling techniques like GPT."
   ]
  },
  {
   "cell_type": "code",
   "execution_count": 2,
   "id": "dbc731be",
   "metadata": {
    "_cell_guid": "b1076dfc-b9ad-4769-8c92-a6c4dae69d19",
    "_uuid": "8f2839f25d086af736a60e9eeb907d3b93b6e0e5",
    "execution": {
     "iopub.execute_input": "2025-05-06T10:14:01.570512Z",
     "iopub.status.busy": "2025-05-06T10:14:01.570171Z",
     "iopub.status.idle": "2025-05-06T10:14:01.577028Z",
     "shell.execute_reply": "2025-05-06T10:14:01.576375Z"
    },
    "papermill": {
     "duration": 0.011231,
     "end_time": "2025-05-06T10:14:01.578155",
     "exception": false,
     "start_time": "2025-05-06T10:14:01.566924",
     "status": "completed"
    },
    "tags": []
   },
   "outputs": [],
   "source": [
    "class VQVAE(nn.Module):\n",
    "    def __init__(self, num_embeddings=512, embedding_dim=64):\n",
    "        super().__init__()\n",
    "        self.encoder = nn.Sequential(\n",
    "            nn.Conv2d(3, 64, 4, 2, 1), nn.ReLU(),\n",
    "            nn.Conv2d(64, 128, 4, 2, 1), nn.ReLU(),\n",
    "            nn.Conv2d(128, embedding_dim, 1)\n",
    "        )\n",
    "        self.codebook = nn.Embedding(num_embeddings, embedding_dim)\n",
    "        self.decoder = nn.Sequential(\n",
    "            nn.ConvTranspose2d(embedding_dim, 128, 4, 2, 1), nn.ReLU(),\n",
    "            nn.ConvTranspose2d(128, 64, 4, 2, 1), nn.ReLU(),\n",
    "            nn.Conv2d(64, 3, 1), nn.Tanh()\n",
    "        )\n",
    "\n",
    "    def forward(self, x):\n",
    "        z_e = self.encoder(x)  # [B, D, H, W]\n",
    "        flat_z = z_e.permute(0, 2, 3, 1).contiguous().view(-1, z_e.size(1))\n",
    "\n",
    "        # Quantization\n",
    "        dists = (flat_z.unsqueeze(1) - self.codebook.weight).pow(2).sum(-1)\n",
    "        indices = dists.argmin(1)\n",
    "        z_q = self.codebook(indices).view(z_e.shape).permute(0, 2, 3, 1).contiguous()\n",
    "        z_q = z_q.permute(0, 3, 1, 2)\n",
    "\n",
    "        # Straight-through estimator\n",
    "        z_q_st = z_e + (z_q - z_e).detach()\n",
    "\n",
    "        x_recon = self.decoder(z_q_st)\n",
    "        return x_recon, z_e, z_q\n"
   ]
  },
  {
   "cell_type": "markdown",
   "id": "1422e0bd",
   "metadata": {
    "papermill": {
     "duration": 0.002367,
     "end_time": "2025-05-06T10:14:01.582990",
     "exception": false,
     "start_time": "2025-05-06T10:14:01.580623",
     "status": "completed"
    },
    "tags": []
   },
   "source": [
    "### This loss function balances three objectives: image reconstruction accuracy, codebook embedding quality, and commitment of the encoder to discrete codes.\n",
    "### It ensures that encoded features stay close to codebook vectors while still allowing gradients to flow during training."
   ]
  },
  {
   "cell_type": "code",
   "execution_count": 3,
   "id": "c7066418",
   "metadata": {
    "execution": {
     "iopub.execute_input": "2025-05-06T10:14:01.589855Z",
     "iopub.status.busy": "2025-05-06T10:14:01.589646Z",
     "iopub.status.idle": "2025-05-06T10:14:01.593554Z",
     "shell.execute_reply": "2025-05-06T10:14:01.593008Z"
    },
    "papermill": {
     "duration": 0.008058,
     "end_time": "2025-05-06T10:14:01.594682",
     "exception": false,
     "start_time": "2025-05-06T10:14:01.586624",
     "status": "completed"
    },
    "tags": []
   },
   "outputs": [],
   "source": [
    "def vqvae_loss(x, x_recon, z_e, z_q, beta=0.25):\n",
    "    recon_loss = F.mse_loss(x_recon, x)\n",
    "    commit_loss = F.mse_loss(z_e.detach(), z_q)\n",
    "    codebook_loss = F.mse_loss(z_e, z_q.detach())\n",
    "    return recon_loss + codebook_loss + beta * commit_loss\n"
   ]
  },
  {
   "cell_type": "markdown",
   "id": "091b638b",
   "metadata": {
    "papermill": {
     "duration": 0.002399,
     "end_time": "2025-05-06T10:14:01.599588",
     "exception": false,
     "start_time": "2025-05-06T10:14:01.597189",
     "status": "completed"
    },
    "tags": []
   },
   "source": [
    "### Downloading the CIFAR10 dataset. We will attempt to reconstruct CIFAR10 images using the VQ-VAE"
   ]
  },
  {
   "cell_type": "code",
   "execution_count": 4,
   "id": "46e9e564",
   "metadata": {
    "execution": {
     "iopub.execute_input": "2025-05-06T10:14:01.605322Z",
     "iopub.status.busy": "2025-05-06T10:14:01.605086Z",
     "iopub.status.idle": "2025-05-06T10:14:20.026292Z",
     "shell.execute_reply": "2025-05-06T10:14:20.025697Z"
    },
    "papermill": {
     "duration": 18.42549,
     "end_time": "2025-05-06T10:14:20.027599",
     "exception": false,
     "start_time": "2025-05-06T10:14:01.602109",
     "status": "completed"
    },
    "tags": []
   },
   "outputs": [
    {
     "name": "stdout",
     "output_type": "stream",
     "text": [
      "Downloading https://www.cs.toronto.edu/~kriz/cifar-10-python.tar.gz to ./data/cifar-10-python.tar.gz\n"
     ]
    },
    {
     "name": "stderr",
     "output_type": "stream",
     "text": [
      "100%|██████████| 170M/170M [00:11<00:00, 15.0MB/s]\n"
     ]
    },
    {
     "name": "stdout",
     "output_type": "stream",
     "text": [
      "Extracting ./data/cifar-10-python.tar.gz to ./data\n"
     ]
    }
   ],
   "source": [
    "from torchvision.datasets import CIFAR10\n",
    "from torchvision.transforms import ToTensor, Compose, Normalize, Resize\n",
    "\n",
    "transform = Compose([Resize(32), ToTensor(), Normalize([0.5]*3, [0.5]*3)])\n",
    "trainset = CIFAR10(root='./data', train=True, download=True, transform=transform)\n",
    "trainloader = torch.utils.data.DataLoader(trainset, batch_size=64, shuffle=True)\n"
   ]
  },
  {
   "cell_type": "code",
   "execution_count": 5,
   "id": "0524e382",
   "metadata": {
    "execution": {
     "iopub.execute_input": "2025-05-06T10:14:20.049217Z",
     "iopub.status.busy": "2025-05-06T10:14:20.048855Z",
     "iopub.status.idle": "2025-05-06T10:14:20.053012Z",
     "shell.execute_reply": "2025-05-06T10:14:20.052471Z"
    },
    "papermill": {
     "duration": 0.016699,
     "end_time": "2025-05-06T10:14:20.054395",
     "exception": false,
     "start_time": "2025-05-06T10:14:20.037696",
     "status": "completed"
    },
    "tags": []
   },
   "outputs": [],
   "source": [
    "device = \"cuda\"\n",
    "num_epochs = 50"
   ]
  },
  {
   "cell_type": "markdown",
   "id": "9e46f77a",
   "metadata": {
    "papermill": {
     "duration": 0.010999,
     "end_time": "2025-05-06T10:14:20.077995",
     "exception": false,
     "start_time": "2025-05-06T10:14:20.066996",
     "status": "completed"
    },
    "tags": []
   },
   "source": [
    "### Training the model with Adam for 50 epochs"
   ]
  },
  {
   "cell_type": "code",
   "execution_count": 6,
   "id": "397f5435",
   "metadata": {
    "execution": {
     "iopub.execute_input": "2025-05-06T10:14:20.094681Z",
     "iopub.status.busy": "2025-05-06T10:14:20.094357Z",
     "iopub.status.idle": "2025-05-06T10:36:21.746292Z",
     "shell.execute_reply": "2025-05-06T10:36:21.745302Z"
    },
    "papermill": {
     "duration": 1321.660766,
     "end_time": "2025-05-06T10:36:21.747527",
     "exception": false,
     "start_time": "2025-05-06T10:14:20.086761",
     "status": "completed"
    },
    "tags": []
   },
   "outputs": [
    {
     "name": "stderr",
     "output_type": "stream",
     "text": [
      "                                                                      \r"
     ]
    },
    {
     "name": "stdout",
     "output_type": "stream",
     "text": [
      "Epoch 1: avg_loss = 0.8199\n"
     ]
    },
    {
     "name": "stderr",
     "output_type": "stream",
     "text": [
      "                                                                      \r"
     ]
    },
    {
     "name": "stdout",
     "output_type": "stream",
     "text": [
      "Epoch 2: avg_loss = 0.6935\n"
     ]
    },
    {
     "name": "stderr",
     "output_type": "stream",
     "text": [
      "                                                                      \r"
     ]
    },
    {
     "name": "stdout",
     "output_type": "stream",
     "text": [
      "Epoch 3: avg_loss = 0.5777\n"
     ]
    },
    {
     "name": "stderr",
     "output_type": "stream",
     "text": [
      "                                                                      \r"
     ]
    },
    {
     "name": "stdout",
     "output_type": "stream",
     "text": [
      "Epoch 4: avg_loss = 0.5711\n"
     ]
    },
    {
     "name": "stderr",
     "output_type": "stream",
     "text": [
      "                                                                      \r"
     ]
    },
    {
     "name": "stdout",
     "output_type": "stream",
     "text": [
      "Epoch 5: avg_loss = 0.5361\n"
     ]
    },
    {
     "name": "stderr",
     "output_type": "stream",
     "text": [
      "                                                                      \r"
     ]
    },
    {
     "name": "stdout",
     "output_type": "stream",
     "text": [
      "Epoch 6: avg_loss = 0.5007\n"
     ]
    },
    {
     "name": "stderr",
     "output_type": "stream",
     "text": [
      "                                                                      \r"
     ]
    },
    {
     "name": "stdout",
     "output_type": "stream",
     "text": [
      "Epoch 7: avg_loss = 0.4746\n"
     ]
    },
    {
     "name": "stderr",
     "output_type": "stream",
     "text": [
      "                                                                      \r"
     ]
    },
    {
     "name": "stdout",
     "output_type": "stream",
     "text": [
      "Epoch 8: avg_loss = 0.4794\n"
     ]
    },
    {
     "name": "stderr",
     "output_type": "stream",
     "text": [
      "                                                                      \r"
     ]
    },
    {
     "name": "stdout",
     "output_type": "stream",
     "text": [
      "Epoch 9: avg_loss = 0.4727\n"
     ]
    },
    {
     "name": "stderr",
     "output_type": "stream",
     "text": [
      "                                                                       \r"
     ]
    },
    {
     "name": "stdout",
     "output_type": "stream",
     "text": [
      "Epoch 10: avg_loss = 0.4512\n"
     ]
    },
    {
     "name": "stderr",
     "output_type": "stream",
     "text": [
      "                                                                       \r"
     ]
    },
    {
     "name": "stdout",
     "output_type": "stream",
     "text": [
      "Epoch 11: avg_loss = 0.4578\n"
     ]
    },
    {
     "name": "stderr",
     "output_type": "stream",
     "text": [
      "                                                                       \r"
     ]
    },
    {
     "name": "stdout",
     "output_type": "stream",
     "text": [
      "Epoch 12: avg_loss = 0.4550\n"
     ]
    },
    {
     "name": "stderr",
     "output_type": "stream",
     "text": [
      "                                                                      \r"
     ]
    },
    {
     "name": "stdout",
     "output_type": "stream",
     "text": [
      "Epoch 13: avg_loss = 0.4665\n"
     ]
    },
    {
     "name": "stderr",
     "output_type": "stream",
     "text": [
      "                                                                       \r"
     ]
    },
    {
     "name": "stdout",
     "output_type": "stream",
     "text": [
      "Epoch 14: avg_loss = 0.4493\n"
     ]
    },
    {
     "name": "stderr",
     "output_type": "stream",
     "text": [
      "                                                                       \r"
     ]
    },
    {
     "name": "stdout",
     "output_type": "stream",
     "text": [
      "Epoch 15: avg_loss = 0.4721\n"
     ]
    },
    {
     "name": "stderr",
     "output_type": "stream",
     "text": [
      "                                                                       \r"
     ]
    },
    {
     "name": "stdout",
     "output_type": "stream",
     "text": [
      "Epoch 16: avg_loss = 0.4731\n"
     ]
    },
    {
     "name": "stderr",
     "output_type": "stream",
     "text": [
      "                                                                       \r"
     ]
    },
    {
     "name": "stdout",
     "output_type": "stream",
     "text": [
      "Epoch 17: avg_loss = 0.4637\n"
     ]
    },
    {
     "name": "stderr",
     "output_type": "stream",
     "text": [
      "                                                                       \r"
     ]
    },
    {
     "name": "stdout",
     "output_type": "stream",
     "text": [
      "Epoch 18: avg_loss = 0.4780\n"
     ]
    },
    {
     "name": "stderr",
     "output_type": "stream",
     "text": [
      "                                                                       \r"
     ]
    },
    {
     "name": "stdout",
     "output_type": "stream",
     "text": [
      "Epoch 19: avg_loss = 0.4877\n"
     ]
    },
    {
     "name": "stderr",
     "output_type": "stream",
     "text": [
      "                                                                       \r"
     ]
    },
    {
     "name": "stdout",
     "output_type": "stream",
     "text": [
      "Epoch 20: avg_loss = 0.4826\n"
     ]
    },
    {
     "name": "stderr",
     "output_type": "stream",
     "text": [
      "                                                                       \r"
     ]
    },
    {
     "name": "stdout",
     "output_type": "stream",
     "text": [
      "Epoch 21: avg_loss = 0.4802\n"
     ]
    },
    {
     "name": "stderr",
     "output_type": "stream",
     "text": [
      "                                                                       \r"
     ]
    },
    {
     "name": "stdout",
     "output_type": "stream",
     "text": [
      "Epoch 22: avg_loss = 0.4988\n"
     ]
    },
    {
     "name": "stderr",
     "output_type": "stream",
     "text": [
      "                                                                       \r"
     ]
    },
    {
     "name": "stdout",
     "output_type": "stream",
     "text": [
      "Epoch 23: avg_loss = 0.4943\n"
     ]
    },
    {
     "name": "stderr",
     "output_type": "stream",
     "text": [
      "                                                                       \r"
     ]
    },
    {
     "name": "stdout",
     "output_type": "stream",
     "text": [
      "Epoch 24: avg_loss = 0.5060\n"
     ]
    },
    {
     "name": "stderr",
     "output_type": "stream",
     "text": [
      "                                                                       \r"
     ]
    },
    {
     "name": "stdout",
     "output_type": "stream",
     "text": [
      "Epoch 25: avg_loss = 0.4996\n"
     ]
    },
    {
     "name": "stderr",
     "output_type": "stream",
     "text": [
      "                                                                       \r"
     ]
    },
    {
     "name": "stdout",
     "output_type": "stream",
     "text": [
      "Epoch 26: avg_loss = 0.5231\n"
     ]
    },
    {
     "name": "stderr",
     "output_type": "stream",
     "text": [
      "                                                                       \r"
     ]
    },
    {
     "name": "stdout",
     "output_type": "stream",
     "text": [
      "Epoch 27: avg_loss = 0.5369\n"
     ]
    },
    {
     "name": "stderr",
     "output_type": "stream",
     "text": [
      "                                                                       \r"
     ]
    },
    {
     "name": "stdout",
     "output_type": "stream",
     "text": [
      "Epoch 28: avg_loss = 0.5264\n"
     ]
    },
    {
     "name": "stderr",
     "output_type": "stream",
     "text": [
      "                                                                       \r"
     ]
    },
    {
     "name": "stdout",
     "output_type": "stream",
     "text": [
      "Epoch 29: avg_loss = 0.5411\n"
     ]
    },
    {
     "name": "stderr",
     "output_type": "stream",
     "text": [
      "                                                                       \r"
     ]
    },
    {
     "name": "stdout",
     "output_type": "stream",
     "text": [
      "Epoch 30: avg_loss = 0.5461\n"
     ]
    },
    {
     "name": "stderr",
     "output_type": "stream",
     "text": [
      "                                                                       \r"
     ]
    },
    {
     "name": "stdout",
     "output_type": "stream",
     "text": [
      "Epoch 31: avg_loss = 0.5230\n"
     ]
    },
    {
     "name": "stderr",
     "output_type": "stream",
     "text": [
      "                                                                       \r"
     ]
    },
    {
     "name": "stdout",
     "output_type": "stream",
     "text": [
      "Epoch 32: avg_loss = 0.5355\n"
     ]
    },
    {
     "name": "stderr",
     "output_type": "stream",
     "text": [
      "                                                                       \r"
     ]
    },
    {
     "name": "stdout",
     "output_type": "stream",
     "text": [
      "Epoch 33: avg_loss = 0.5462\n"
     ]
    },
    {
     "name": "stderr",
     "output_type": "stream",
     "text": [
      "                                                                       \r"
     ]
    },
    {
     "name": "stdout",
     "output_type": "stream",
     "text": [
      "Epoch 34: avg_loss = 0.5485\n"
     ]
    },
    {
     "name": "stderr",
     "output_type": "stream",
     "text": [
      "                                                                       \r"
     ]
    },
    {
     "name": "stdout",
     "output_type": "stream",
     "text": [
      "Epoch 35: avg_loss = 0.5658\n"
     ]
    },
    {
     "name": "stderr",
     "output_type": "stream",
     "text": [
      "                                                                       \r"
     ]
    },
    {
     "name": "stdout",
     "output_type": "stream",
     "text": [
      "Epoch 36: avg_loss = 0.5552\n"
     ]
    },
    {
     "name": "stderr",
     "output_type": "stream",
     "text": [
      "                                                                       \r"
     ]
    },
    {
     "name": "stdout",
     "output_type": "stream",
     "text": [
      "Epoch 37: avg_loss = 0.5644\n"
     ]
    },
    {
     "name": "stderr",
     "output_type": "stream",
     "text": [
      "                                                                       \r"
     ]
    },
    {
     "name": "stdout",
     "output_type": "stream",
     "text": [
      "Epoch 38: avg_loss = 0.5642\n"
     ]
    },
    {
     "name": "stderr",
     "output_type": "stream",
     "text": [
      "                                                                      \r"
     ]
    },
    {
     "name": "stdout",
     "output_type": "stream",
     "text": [
      "Epoch 39: avg_loss = 0.5804\n"
     ]
    },
    {
     "name": "stderr",
     "output_type": "stream",
     "text": [
      "                                                                      \r"
     ]
    },
    {
     "name": "stdout",
     "output_type": "stream",
     "text": [
      "Epoch 40: avg_loss = 0.5823\n"
     ]
    },
    {
     "name": "stderr",
     "output_type": "stream",
     "text": [
      "                                                                       \r"
     ]
    },
    {
     "name": "stdout",
     "output_type": "stream",
     "text": [
      "Epoch 41: avg_loss = 0.5737\n"
     ]
    },
    {
     "name": "stderr",
     "output_type": "stream",
     "text": [
      "                                                                       \r"
     ]
    },
    {
     "name": "stdout",
     "output_type": "stream",
     "text": [
      "Epoch 42: avg_loss = 0.5881\n"
     ]
    },
    {
     "name": "stderr",
     "output_type": "stream",
     "text": [
      "                                                                       \r"
     ]
    },
    {
     "name": "stdout",
     "output_type": "stream",
     "text": [
      "Epoch 43: avg_loss = 0.6001\n"
     ]
    },
    {
     "name": "stderr",
     "output_type": "stream",
     "text": [
      "                                                                       \r"
     ]
    },
    {
     "name": "stdout",
     "output_type": "stream",
     "text": [
      "Epoch 44: avg_loss = 0.5876\n"
     ]
    },
    {
     "name": "stderr",
     "output_type": "stream",
     "text": [
      "                                                                       \r"
     ]
    },
    {
     "name": "stdout",
     "output_type": "stream",
     "text": [
      "Epoch 45: avg_loss = 0.5956\n"
     ]
    },
    {
     "name": "stderr",
     "output_type": "stream",
     "text": [
      "                                                                       \r"
     ]
    },
    {
     "name": "stdout",
     "output_type": "stream",
     "text": [
      "Epoch 46: avg_loss = 0.5996\n"
     ]
    },
    {
     "name": "stderr",
     "output_type": "stream",
     "text": [
      "                                                                       \r"
     ]
    },
    {
     "name": "stdout",
     "output_type": "stream",
     "text": [
      "Epoch 47: avg_loss = 0.6094\n"
     ]
    },
    {
     "name": "stderr",
     "output_type": "stream",
     "text": [
      "                                                                       \r"
     ]
    },
    {
     "name": "stdout",
     "output_type": "stream",
     "text": [
      "Epoch 48: avg_loss = 0.6019\n"
     ]
    },
    {
     "name": "stderr",
     "output_type": "stream",
     "text": [
      "                                                                      \r"
     ]
    },
    {
     "name": "stdout",
     "output_type": "stream",
     "text": [
      "Epoch 49: avg_loss = 0.6021\n"
     ]
    },
    {
     "name": "stderr",
     "output_type": "stream",
     "text": [
      "                                                                       "
     ]
    },
    {
     "name": "stdout",
     "output_type": "stream",
     "text": [
      "Epoch 50: avg_loss = 0.6341\n"
     ]
    },
    {
     "name": "stderr",
     "output_type": "stream",
     "text": [
      "\r"
     ]
    }
   ],
   "source": [
    "from tqdm import tqdm\n",
    "\n",
    "model = VQVAE().to(device)\n",
    "opt = torch.optim.Adam(model.parameters(), lr=1e-3)\n",
    "\n",
    "for epoch in range(num_epochs):\n",
    "    epoch_loss = 0\n",
    "    pbar = tqdm(trainloader, desc=f\"Epoch {epoch+1}\", leave=False)\n",
    "\n",
    "    for x, _ in pbar:\n",
    "        x = x.to(device)\n",
    "        x_recon, z_e, z_q = model(x)\n",
    "        loss = vqvae_loss(x, x_recon, z_e, z_q)\n",
    "\n",
    "        opt.zero_grad()\n",
    "        loss.backward()\n",
    "        opt.step()\n",
    "\n",
    "        epoch_loss += loss.item()\n",
    "        pbar.set_postfix(loss=loss.item())\n",
    "\n",
    "    print(f\"Epoch {epoch+1}: avg_loss = {epoch_loss / len(trainloader):.4f}\")\n"
   ]
  },
  {
   "cell_type": "markdown",
   "id": "b3511b5f",
   "metadata": {
    "papermill": {
     "duration": 2.25806,
     "end_time": "2025-05-06T10:36:26.263980",
     "exception": false,
     "start_time": "2025-05-06T10:36:24.005920",
     "status": "completed"
    },
    "tags": []
   },
   "source": [
    "### Visualizing the images and their reconstructions"
   ]
  },
  {
   "cell_type": "code",
   "execution_count": 7,
   "id": "a2d9af49",
   "metadata": {
    "execution": {
     "iopub.execute_input": "2025-05-06T10:36:30.732067Z",
     "iopub.status.busy": "2025-05-06T10:36:30.731794Z",
     "iopub.status.idle": "2025-05-06T10:36:31.171334Z",
     "shell.execute_reply": "2025-05-06T10:36:31.170361Z"
    },
    "papermill": {
     "duration": 2.735384,
     "end_time": "2025-05-06T10:36:31.172664",
     "exception": false,
     "start_time": "2025-05-06T10:36:28.437280",
     "status": "completed"
    },
    "tags": []
   },
   "outputs": [
    {
     "data": {
      "image/png": "[encoded data removed]",
      "text/plain": [
       "<Figure size 1200x400 with 12 Axes>"
      ]
     },
     "metadata": {},
     "output_type": "display_data"
    }
   ],
   "source": [
    "import matplotlib.pyplot as plt\n",
    "\n",
    "x, _ = next(iter(trainloader))\n",
    "x = x.to(device)\n",
    "\n",
    "with torch.no_grad():\n",
    "    x_recon, _, _ = model(x)\n",
    "\n",
    "def show_images(orig, recon, num=6):\n",
    "    orig = orig[:num].cpu()\n",
    "    recon = recon[:num].cpu()\n",
    "\n",
    "    plt.figure(figsize=(num * 2, 4))\n",
    "    for i in range(num):\n",
    "        # Original\n",
    "        plt.subplot(2, num, i + 1)\n",
    "        plt.imshow(orig[i].permute(1, 2, 0).clamp(0, 1))\n",
    "        plt.axis('off')\n",
    "        if i == 0: plt.title(\"Original\")\n",
    "\n",
    "        # Reconstructed\n",
    "        plt.subplot(2, num, num + i + 1)\n",
    "        plt.imshow(recon[i].permute(1, 2, 0).clamp(0, 1))\n",
    "        plt.axis('off')\n",
    "        if i == 0: plt.title(\"Reconstructed\")\n",
    "\n",
    "    plt.tight_layout()\n",
    "    plt.show()\n",
    "\n",
    "show_images(x, x_recon)\n"
   ]
  },
  {
   "cell_type": "code",
   "execution_count": 8,
   "id": "724141b3",
   "metadata": {
    "execution": {
     "iopub.execute_input": "2025-05-06T10:36:35.615388Z",
     "iopub.status.busy": "2025-05-06T10:36:35.615093Z",
     "iopub.status.idle": "2025-05-06T10:36:35.683794Z",
     "shell.execute_reply": "2025-05-06T10:36:35.683183Z"
    },
    "papermill": {
     "duration": 2.336937,
     "end_time": "2025-05-06T10:36:35.685103",
     "exception": false,
     "start_time": "2025-05-06T10:36:33.348166",
     "status": "completed"
    },
    "tags": []
   },
   "outputs": [],
   "source": [
    "with torch.no_grad():\n",
    "    z_e = model.encoder(x)  # shape [B, D, H, W]\n",
    "    z_flat = z_e.permute(0, 2, 3, 1).reshape(-1, model.codebook.embedding_dim)\n",
    "    dists = torch.cdist(z_flat, model.codebook.weight)\n",
    "    tokens = dists.argmin(dim=1).reshape(x.size(0), z_e.size(2), z_e.size(3))  # [B, H, W]\n",
    "    token_seqs = tokens.view(x.size(0), -1)  # Flatten for transformer\n"
   ]
  },
  {
   "cell_type": "markdown",
   "id": "38c77af4",
   "metadata": {
    "papermill": {
     "duration": 2.199887,
     "end_time": "2025-05-06T10:36:40.173662",
     "exception": false,
     "start_time": "2025-05-06T10:36:37.973775",
     "status": "completed"
    },
    "tags": []
   },
   "source": [
    "### Visualizing the learned tokens"
   ]
  },
  {
   "cell_type": "code",
   "execution_count": 9,
   "id": "f25d41ac",
   "metadata": {
    "execution": {
     "iopub.execute_input": "2025-05-06T10:36:44.635894Z",
     "iopub.status.busy": "2025-05-06T10:36:44.635351Z",
     "iopub.status.idle": "2025-05-06T10:36:45.087982Z",
     "shell.execute_reply": "2025-05-06T10:36:45.087381Z"
    },
    "papermill": {
     "duration": 2.658822,
     "end_time": "2025-05-06T10:36:45.089173",
     "exception": false,
     "start_time": "2025-05-06T10:36:42.430351",
     "status": "completed"
    },
    "tags": []
   },
   "outputs": [
    {
     "data": {
      "image/png": "[encoded data removed]",
      "text/plain": [
       "<Figure size 1200x250 with 6 Axes>"
      ]
     },
     "metadata": {},
     "output_type": "display_data"
    }
   ],
   "source": [
    "def visualize_token_grid(tokens, num_images=6):\n",
    "    plt.figure(figsize=(num_images * 2, 2.5))\n",
    "    for i in range(num_images):\n",
    "        grid = tokens[i].cpu().numpy()  # shape [H, W]\n",
    "        plt.subplot(1, num_images, i + 1)\n",
    "        plt.imshow(grid, cmap='viridis')  # or 'plasma', 'gray'\n",
    "        plt.title(f\"Token Grid {i+1}\")\n",
    "        plt.axis('off')\n",
    "    plt.tight_layout()\n",
    "    plt.show()\n",
    "\n",
    "visualize_token_grid(tokens, num_images=6)\n"
   ]
  },
  {
   "cell_type": "code",
   "execution_count": 10,
   "id": "ebb49673",
   "metadata": {
    "execution": {
     "iopub.execute_input": "2025-05-06T10:36:49.588697Z",
     "iopub.status.busy": "2025-05-06T10:36:49.588413Z",
     "iopub.status.idle": "2025-05-06T10:36:49.728426Z",
     "shell.execute_reply": "2025-05-06T10:36:49.727732Z"
    },
    "papermill": {
     "duration": 2.323653,
     "end_time": "2025-05-06T10:36:49.729530",
     "exception": false,
     "start_time": "2025-05-06T10:36:47.405877",
     "status": "completed"
    },
    "tags": []
   },
   "outputs": [
    {
     "data": {
      "image/png": "[encoded data removed]",
      "text/plain": [
       "<Figure size 600x300 with 2 Axes>"
      ]
     },
     "metadata": {},
     "output_type": "display_data"
    }
   ],
   "source": [
    "def show_image_and_tokens(imgs, tokens, index=0):\n",
    "    img = imgs[index].cpu().permute(1, 2, 0)  # [C, H, W] -> [H, W, C]\n",
    "    img = (img * 0.5 + 0.5).clamp(0, 1)        # unnormalize\n",
    "\n",
    "    token_grid = tokens[index].cpu().numpy()\n",
    "\n",
    "    plt.figure(figsize=(6, 3))\n",
    "    plt.subplot(1, 2, 1)\n",
    "    plt.imshow(img)\n",
    "    plt.title(\"Original Image\")\n",
    "    plt.axis('off')\n",
    "\n",
    "    plt.subplot(1, 2, 2)\n",
    "    plt.imshow(token_grid, cmap='viridis')\n",
    "    plt.title(\"Token IDs\")\n",
    "    plt.axis('off')\n",
    "    plt.tight_layout()\n",
    "    plt.show()\n",
    "\n",
    "show_image_and_tokens(x, tokens, index=0)\n"
   ]
  },
  {
   "cell_type": "code",
   "execution_count": null,
   "id": "e8491d76",
   "metadata": {
    "papermill": {
     "duration": 2.247647,
     "end_time": "2025-05-06T10:36:54.268981",
     "exception": false,
     "start_time": "2025-05-06T10:36:52.021334",
     "status": "completed"
    },
    "tags": []
   },
   "outputs": [],
   "source": []
  }
 ],
 "metadata": {
  "kaggle": {
   "accelerator": "nvidiaTeslaT4",
   "dataSources": [],
   "dockerImageVersionId": 31011,
   "isGpuEnabled": true,
   "isInternetEnabled": true,
   "language": "python",
   "sourceType": "notebook"
  },
  "kernelspec": {
   "display_name": "Python 3",
   "language": "python",
   "name": "python3"
  },
  "language_info": {
   "codemirror_mode": {
    "name": "ipython",
    "version": 3
   },
   "file_extension": ".py",
   "mimetype": "text/x-python",
   "name": "python",
   "nbconvert_exporter": "python",
   "pygments_lexer": "ipython3",
   "version": "3.11.11"
  },
  "papermill": {
   "default_parameters": {},
   "duration": 1384.96786,
   "end_time": "2025-05-06T10:36:59.173574",
   "environment_variables": {},
   "exception": null,
   "input_path": "__notebook__.ipynb",
   "output_path": "__notebook__.ipynb",
   "parameters": {},
   "start_time": "2025-05-06T10:13:54.205714",
   "version": "2.6.0"
  }
 },
 "nbformat": 4,
 "nbformat_minor": 5
}
